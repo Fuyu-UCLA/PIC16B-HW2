{
 "cells": [
  {
   "cell_type": "code",
   "execution_count": 23,
   "id": "2f4ba743",
   "metadata": {},
   "outputs": [
    {
     "data": {
      "text/plain": [
       "movie_or_TV_name                                 \n",
       "A Place Further Than the Universe                    18\n",
       "Is It Wrong to Try to Pick Up Girls in a Dungeon?    11\n",
       "Food Wars                                            11\n",
       "Sekirei                                               9\n",
       "Dragalia Lost                                         9\n",
       "dtype: int64"
      ]
     },
     "execution_count": 23,
     "metadata": {},
     "output_type": "execute_result"
    }
   ],
   "source": [
    "import pandas as pd\n",
    "\n",
    "results = pd.read_csv(\"results.csv\")\n",
    "cols = [\"movie_or_TV_name\"]\n",
    "results = results[cols].value_counts()\n",
    "results.head()"
   ]
  },
  {
   "cell_type": "code",
   "execution_count": null,
   "id": "5fd0e143",
   "metadata": {},
   "outputs": [],
   "source": []
  },
  {
   "cell_type": "code",
   "execution_count": null,
   "id": "f4433d7f",
   "metadata": {},
   "outputs": [],
   "source": []
  },
  {
   "cell_type": "code",
   "execution_count": null,
   "id": "52d262f0",
   "metadata": {},
   "outputs": [],
   "source": []
  }
 ],
 "metadata": {
  "kernelspec": {
   "display_name": "Python 3 (ipykernel)",
   "language": "python",
   "name": "python3"
  },
  "language_info": {
   "codemirror_mode": {
    "name": "ipython",
    "version": 3
   },
   "file_extension": ".py",
   "mimetype": "text/x-python",
   "name": "python",
   "nbconvert_exporter": "python",
   "pygments_lexer": "ipython3",
   "version": "3.8.13"
  }
 },
 "nbformat": 4,
 "nbformat_minor": 5
}
